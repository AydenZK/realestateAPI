{
 "cells": [
  {
   "cell_type": "markdown",
   "metadata": {},
   "source": [
    "# REAL ESTATE DATA API"
   ]
  },
  {
   "cell_type": "markdown",
   "metadata": {},
   "source": [
    "## Imports"
   ]
  },
  {
   "cell_type": "code",
   "execution_count": null,
   "metadata": {},
   "outputs": [],
   "source": [
    "import subprocess\n",
    "import warnings\n",
    "from datetime import datetime\n",
    "\n",
    "import pandas as pd\n",
    "import requests\n",
    "\n",
    "warnings.filterwarnings('ignore')\n"
   ]
  },
  {
   "cell_type": "markdown",
   "metadata": {},
   "source": [
    "## Generating Dataset"
   ]
  },
  {
   "cell_type": "markdown",
   "metadata": {},
   "source": [
    "### API Props"
   ]
  },
  {
   "cell_type": "code",
   "execution_count": null,
   "metadata": {},
   "outputs": [],
   "source": [
    "client_secret = \"secret_9d2aeb1d94d5f400c8128c5199a8d8de\"\n",
    "client_id = \"client_2bf50cfd2349026b489480f4c464f395\"\n",
    "\n",
    "raw = subprocess.check_output(\"node getToken.js\", shell=True)\n",
    "bearer = raw.decode(\"utf-8\").strip()"
   ]
  },
  {
   "cell_type": "code",
   "execution_count": null,
   "metadata": {},
   "outputs": [],
   "source": [
    "headers = {\n",
    "    \"accept\": \"application/json\",\n",
    "    \"Content-Type\": \"application/json\",\n",
    "    \"Authorization\": f\"Bearer {bearer}\"\n",
    "}"
   ]
  },
  {
   "cell_type": "code",
   "execution_count": null,
   "metadata": {},
   "outputs": [],
   "source": [
    "# URLs\n",
    "listings = \"https://api.domain.com.au/v1/listings/residential/_search\""
   ]
  },
  {
   "cell_type": "code",
   "execution_count": null,
   "metadata": {},
   "outputs": [],
   "source": [
    "req_body = lambda pg_no: {\n",
    "  \"listingType\":\"Sale\",\n",
    "  \"propertyTypes\":[\n",
    "    \"House\"\n",
    "  ],\n",
    "  \"minBedrooms\":2,\n",
    "  \"maxBedrooms\":5,\n",
    "  \"minPrice\": 350000,\n",
    "  \"maxPrice\": 800000,\n",
    "  \"listingAttributes\": [\n",
    "    \"HasPhotos\"\n",
    "  ], \n",
    "  \"locations\":[\n",
    "    {\n",
    "      \"state\":\"VIC\",\n",
    "      \"region\":\"Melbourne Region\",\n",
    "      \"area\":\"\",\n",
    "      \"suburb\":\"\",\n",
    "      \"postCode\":\"\"\n",
    "    }\n",
    "  ],\n",
    "  \"excludePriceWithheld\": True,\n",
    "  \"excludeDepositTaken\": True,\n",
    "  \"pageSize\": 200,\n",
    "  \"pageNumber\": pg_no\n",
    "}"
   ]
  },
  {
   "cell_type": "markdown",
   "metadata": {},
   "source": [
    "### Health Check"
   ]
  },
  {
   "cell_type": "code",
   "execution_count": null,
   "metadata": {},
   "outputs": [],
   "source": [
    "resp = requests.post(url=listings, json=req_body(1), headers=headers)\n",
    "resp_json = resp.json()\n",
    "print(resp)"
   ]
  },
  {
   "cell_type": "markdown",
   "metadata": {},
   "source": [
    "### Dataframe Writer"
   ]
  },
  {
   "cell_type": "code",
   "execution_count": null,
   "metadata": {},
   "outputs": [],
   "source": [
    "def update_df(df, resp_json):\n",
    "  for listing in resp_json:\n",
    "    if \"listing\" in listing:\n",
    "      house = listing['listing']\n",
    "      full_dict = {}\n",
    "      full_dict.update({k: v for k,v in house.items() if k in ['listingType', 'id', 'dateListed']})\n",
    "      full_dict.update(house['priceDetails'])\n",
    "      full_dict.update({k: v for k,v in house['propertyDetails'].items() if k in ['propertyType', 'bathrooms', 'bedrooms', 'carspaces', 'unitNumber', 'streetNumber', 'street', 'area', 'region', 'suburb', 'postcode', 'displayableAddress', 'landArea']})\n",
    "      df = df.append(full_dict, ignore_index=True)\n",
    "  return df"
   ]
  },
  {
   "cell_type": "markdown",
   "metadata": {},
   "source": [
    "### Main"
   ]
  },
  {
   "cell_type": "code",
   "execution_count": null,
   "metadata": {},
   "outputs": [],
   "source": [
    "if __name__ == \"__main__\":\n",
    "    FULL_DF = pd.DataFrame()\n",
    "\n",
    "    for i in range(1, 10):\n",
    "        resp = requests.post(url=listings, json=req_body(i), headers=headers)\n",
    "        resp_json = resp.json()\n",
    "        \n",
    "        # process data and update df\n",
    "        FULL_DF = update_df(FULL_DF, resp_json)\n",
    "\n",
    "        if len(resp_json) < 200:\n",
    "            break"
   ]
  },
  {
   "cell_type": "code",
   "execution_count": null,
   "metadata": {},
   "outputs": [],
   "source": [
    "FULL_DF"
   ]
  },
  {
   "cell_type": "markdown",
   "metadata": {},
   "source": [
    "### Save to CSV"
   ]
  },
  {
   "cell_type": "code",
   "execution_count": null,
   "metadata": {},
   "outputs": [],
   "source": [
    "now = datetime.now().strftime(\"%Y-%m-%d\")\n",
    "FULL_DF.to_csv(f\"houses-{now}.csv\")"
   ]
  },
  {
   "cell_type": "markdown",
   "metadata": {},
   "source": [
    "## Other Fields # TODO"
   ]
  },
  {
   "cell_type": "code",
   "execution_count": null,
   "metadata": {},
   "outputs": [],
   "source": [
    "# rent history/appreciation\n",
    "# price hsitoer/appreciation\n",
    "# rent frequency\n",
    "# Distance to city\n",
    "# Distance to schools\n",
    "# Median House Price\n",
    "# Listing URL, https://developer.domain.com.au/docs/latest/apis/pkg_agents_listings/references/listings_get, \"seoUrl\""
   ]
  },
  {
   "cell_type": "markdown",
   "metadata": {},
   "source": [
    "## Data Visualisation #TODO"
   ]
  },
  {
   "cell_type": "code",
   "execution_count": null,
   "metadata": {},
   "outputs": [],
   "source": [
    "# Choose CSV file (default latest)\n",
    "# Plotly graphs, scatterplots - ensure popup thingos include address\n",
    "# Geo plot?"
   ]
  },
  {
   "cell_type": "code",
   "execution_count": null,
   "metadata": {},
   "outputs": [],
   "source": []
  }
 ],
 "metadata": {
  "kernelspec": {
   "display_name": "Python 3.10.2 64-bit",
   "language": "python",
   "name": "python3"
  },
  "language_info": {
   "codemirror_mode": {
    "name": "ipython",
    "version": 3
   },
   "file_extension": ".py",
   "mimetype": "text/x-python",
   "name": "python",
   "nbconvert_exporter": "python",
   "pygments_lexer": "ipython3",
   "version": "3.10.2"
  },
  "orig_nbformat": 4,
  "vscode": {
   "interpreter": {
    "hash": "f7384bc7e4e453d7b365384f012750802d483f9ae59a7d90588c6e0e0400e586"
   }
  }
 },
 "nbformat": 4,
 "nbformat_minor": 2
}
